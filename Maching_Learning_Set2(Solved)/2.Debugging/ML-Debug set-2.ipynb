{
 "cells": [
  {
   "cell_type": "code",
   "execution_count": 5,
   "id": "07069d04",
   "metadata": {},
   "outputs": [
    {
     "name": "stdout",
     "output_type": "stream",
     "text": [
      "[[3, 4], [5, 6]] [[1, 2]] [1, 0]\n"
     ]
    }
   ],
   "source": [
    "# 1.Why does this train-test split fail?\n",
    "X = [[1, 2], [3, 4], [5, 6]]\n",
    "y = [0, 1, 0]\n",
    "\n",
    "from sklearn.model_selection import train_test_split\n",
    "X_train, X_test, y_train, y_test = train_test_split(X, y, test_size=1/3, random_state=42)\n",
    "\n",
    "print(X_train,X_test,y_train)\n"
   ]
  },
  {
   "cell_type": "code",
   "execution_count": 6,
   "id": "154d94c6",
   "metadata": {},
   "outputs": [
    {
     "name": "stdout",
     "output_type": "stream",
     "text": [
      "1.0\n"
     ]
    }
   ],
   "source": [
    "#2.from sklearn.tree import DecisionTreeClassifier\n",
    "\n",
    "X = [[1, 2], [3, 4], [5, 6]]\n",
    "y = [0, 1, 0]\n",
    "\n",
    "from sklearn.tree import DecisionTreeClassifier\n",
    "model = DecisionTreeClassifier(max_depth=100)\n",
    "model.fit(X, y)\n",
    "print(model.score(X, y))\n"
   ]
  },
  {
   "cell_type": "code",
   "execution_count": 7,
   "id": "75083423",
   "metadata": {},
   "outputs": [
    {
     "name": "stderr",
     "output_type": "stream",
     "text": [
      "D:\\AnacondaPython\\Program_files\\Anaconda\\Lib\\site-packages\\sklearn\\cluster\\_kmeans.py:1429: UserWarning: KMeans is known to have a memory leak on Windows with MKL, when there are less chunks than available threads. You can avoid it by setting the environment variable OMP_NUM_THREADS=1.\n",
      "  warnings.warn(\n"
     ]
    },
    {
     "data": {
      "text/plain": [
       "array([2, 1, 0])"
      ]
     },
     "execution_count": 7,
     "metadata": {},
     "output_type": "execute_result"
    }
   ],
   "source": [
    "from sklearn.cluster import KMeans\n",
    "import numpy as np\n",
    "\n",
    "X = np.array([[1, 2], [3, 4], [5, 6]])\n",
    "\n",
    "model = KMeans(n_clusters=3)\n",
    "model.fit_predict(X)\n"
   ]
  },
  {
   "cell_type": "code",
   "execution_count": 8,
   "id": "0a4620d3",
   "metadata": {},
   "outputs": [
    {
     "name": "stdout",
     "output_type": "stream",
     "text": [
      "   A\n",
      "0  1\n",
      "1  2\n",
      "2  3\n"
     ]
    }
   ],
   "source": [
    "#4.\n",
    "import pandas as pd  \n",
    "\n",
    "df = pd.DataFrame({'A': [1, 2, 3]})\n",
    "print(df)"
   ]
  },
  {
   "cell_type": "code",
   "execution_count": 9,
   "id": "a0e5217d",
   "metadata": {},
   "outputs": [],
   "source": [
    "#5.from sklearn.tree import DecisionTreClassifier  # Typo in 'DecisionTreeClassifier'\n",
    "\n",
    "from sklearn.tree import DecisionTreeClassifier  # Typo in 'DecisionTreeClassifier'\n",
    "\n",
    "model = DecisionTreeClassifier()\n",
    "\n"
   ]
  },
  {
   "cell_type": "code",
   "execution_count": 10,
   "id": "4448a281",
   "metadata": {},
   "outputs": [],
   "source": [
    "#6.\n",
    "from sklearn.tree import DecisionTreeClassifier\n",
    "\n",
    "model = DecisionTreeClassifier(random_state=3)  \n"
   ]
  },
  {
   "cell_type": "code",
   "execution_count": 11,
   "id": "b84af6a5",
   "metadata": {},
   "outputs": [
    {
     "name": "stdout",
     "output_type": "stream",
     "text": [
      "[2.]\n"
     ]
    }
   ],
   "source": [
    "#7.\n",
    "from sklearn.linear_model import LinearRegression\n",
    "\n",
    "X = [[1], [2], [3], [4]]\n",
    "y = [2, 4, 6, 8]\n",
    "\n",
    "model = LinearRegression()\n",
    "model.fit(X, y)\n",
    "\n",
    "print(model.coef_)  # Incorrect attribute name\n"
   ]
  },
  {
   "cell_type": "code",
   "execution_count": 17,
   "id": "592dbcfe",
   "metadata": {},
   "outputs": [
    {
     "name": "stdout",
     "output_type": "stream",
     "text": [
      "0.6666666666666666\n"
     ]
    }
   ],
   "source": [
    "#8.\n",
    "from sklearn.neighbors import KNeighborsClassifier\n",
    "\n",
    "X_train = [[1, 2], [3, 4], [5, 6]]\n",
    "y_train = [0, 1, 0]\n",
    "\n",
    "model = KNeighborsClassifier(n_neighbors=2)  # Invalid value for n_neighbors\n",
    "model.fit(X_train, y_train)\n",
    "print(model.score(X_train,y_train))\n"
   ]
  },
  {
   "cell_type": "code",
   "execution_count": 18,
   "id": "5d2ddecc",
   "metadata": {},
   "outputs": [
    {
     "name": "stdout",
     "output_type": "stream",
     "text": [
      "    A  B\n",
      "0  10  1\n",
      "1  20  2\n",
      "2  30  3\n",
      "    A  B\n",
      "1  20  2\n"
     ]
    }
   ],
   "source": [
    "#9.\n",
    "import pandas as pd\n",
    "\n",
    "df = pd.DataFrame({'A': [10, 20, 30], 'B': [1, 2, 3]})\n",
    "print(df)\n",
    "print(df.iloc[1:2])  # Incorrect: iloc requires integer indexes\n"
   ]
  },
  {
   "cell_type": "code",
   "execution_count": 19,
   "id": "4ca9a757",
   "metadata": {},
   "outputs": [
    {
     "name": "stdout",
     "output_type": "stream",
     "text": [
      "[[0.68 0.32]]\n"
     ]
    }
   ],
   "source": [
    "#10.\n",
    "from sklearn.ensemble import RandomForestClassifier\n",
    "\n",
    "X_train = [[1, 2], [3, 4], [5, 6]]\n",
    "y_train = [0, 1, 0]\n",
    "\n",
    "model = RandomForestClassifier()\n",
    "model.fit(X_train, y_train)\n",
    "\n",
    "probs = model.predict_proba([[2, 3]])  # Incorrect index\n",
    "print(probs)\n"
   ]
  },
  {
   "cell_type": "code",
   "execution_count": null,
   "id": "493e9a09",
   "metadata": {},
   "outputs": [],
   "source": []
  },
  {
   "cell_type": "code",
   "execution_count": null,
   "id": "80fac483",
   "metadata": {},
   "outputs": [],
   "source": []
  }
 ],
 "metadata": {
  "kernelspec": {
   "display_name": "Python 3 (ipykernel)",
   "language": "python",
   "name": "python3"
  },
  "language_info": {
   "codemirror_mode": {
    "name": "ipython",
    "version": 3
   },
   "file_extension": ".py",
   "mimetype": "text/x-python",
   "name": "python",
   "nbconvert_exporter": "python",
   "pygments_lexer": "ipython3",
   "version": "3.12.7"
  }
 },
 "nbformat": 4,
 "nbformat_minor": 5
}
