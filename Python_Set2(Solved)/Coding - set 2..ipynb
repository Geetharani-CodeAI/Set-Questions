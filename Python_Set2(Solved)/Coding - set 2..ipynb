{
 "cells": [
  {
   "cell_type": "code",
   "execution_count": 10,
   "id": "aba1475d",
   "metadata": {},
   "outputs": [
    {
     "name": "stdin",
     "output_type": "stream",
     "text": [
      "Enter a string: hello\n"
     ]
    },
    {
     "name": "stdout",
     "output_type": "stream",
     "text": [
      "Reversed_string:olleh\n"
     ]
    }
   ],
   "source": [
    "#1.Write a Python program to find the reverse of a string. Expected Output (for input \"hello\"):\n",
    "#olleh\n",
    "string = input(\"Enter a string:\")\n",
    "print(f\"Reversed_string:{string[::-1]}\")"
   ]
  },
  {
   "cell_type": "code",
   "execution_count": 51,
   "id": "5b1ec143",
   "metadata": {},
   "outputs": [],
   "source": [
    "#2.Write a Python program to generate the Fibonacci sequence up to 10 terms.\n",
    "#Expected Output: 0 1 1 2 3 5 8 13 21 34\n",
    "num = 10\n",
    "def fibonacci():\n",
    "    fib_seq = [0,1]\n",
    "    for i in range(2,num):\n",
    "        next_num = fib_seq[i-2]+fib_seq[i-1]\n",
    "        fib_seq.append(next_num)\n",
    "    print(fib_seq)\n",
    "    "
   ]
  },
  {
   "cell_type": "code",
   "execution_count": 52,
   "id": "727031ca-94be-4621-a8a4-3d6f5470f007",
   "metadata": {},
   "outputs": [
    {
     "name": "stdout",
     "output_type": "stream",
     "text": [
      "[0, 1, 1, 2, 3, 5, 8, 13, 21, 34]\n"
     ]
    }
   ],
   "source": [
    "fibonacci()"
   ]
  },
  {
   "cell_type": "code",
   "execution_count": 5,
   "id": "c656f04a",
   "metadata": {},
   "outputs": [
    {
     "name": "stdin",
     "output_type": "stream",
     "text": [
      "Enter a string: radar\n"
     ]
    },
    {
     "name": "stdout",
     "output_type": "stream",
     "text": [
      "radar is a Palindrome\n"
     ]
    }
   ],
   "source": [
    "#3.Write a Python function to check if a given string is a palindrome.\n",
    "#Expected Output (for input \"madam\"):\n",
    "#madam is a palindrome\n",
    "\n",
    "string = input(\"Enter a string:\")\n",
    "reversed_string = string[::-1]\n",
    "if string == reversed_string:\n",
    "        print(f\"{string} is a Palindrome\")\n",
    "else:\n",
    "    print(f\"{string} is not a Palindrome\")\n"
   ]
  },
  {
   "cell_type": "code",
   "execution_count": 13,
   "id": "cd7b0a78",
   "metadata": {},
   "outputs": [
    {
     "name": "stdin",
     "output_type": "stream",
     "text": [
      "Enter a string: Even at worst times, we should stand up with consistency and strong determination to succeed\n"
     ]
    },
    {
     "data": {
      "text/plain": [
       "27"
      ]
     },
     "execution_count": 13,
     "metadata": {},
     "output_type": "execute_result"
    }
   ],
   "source": [
    "#4.Write a Python program to count the number of vowels in a given string. \n",
    "#Expected Output (for input \"education\"):\n",
    "\n",
    "#Number of vowels: 5\n",
    "\n",
    "string = input(\"Enter a string:\")\n",
    "count = 0\n",
    "for i in string:\n",
    "    if i =='A'or i =='a'or i =='E'or i =='e'or i =='I'or i =='i'or i =='O'or i =='o'or i =='U'or i =='u':\n",
    "        count = count + 1\n",
    "count"
   ]
  },
  {
   "cell_type": "code",
   "execution_count": 53,
   "id": "bdbb9b19",
   "metadata": {},
   "outputs": [],
   "source": [
    "#5.Write a Python program to remove duplicates from a list.\n",
    "#Expected Output (for input [1, 2, 2, 3, 4, 4, 5]):\n",
    "# [1, 2, 3, 4, 5]\n",
    "def duplicates():\n",
    "    list1 = [1,2,2,3,4,4,5]\n",
    "    new_list = []\n",
    "    for i in list1:\n",
    "        if i not in new_list:\n",
    "            new_list.append(i)\n",
    "    print(f\"Duplicates removed from list {new_list}\")\n"
   ]
  },
  {
   "cell_type": "code",
   "execution_count": 54,
   "id": "dcce69e9-f533-41f4-9acd-3fb0149c46ca",
   "metadata": {},
   "outputs": [
    {
     "name": "stdout",
     "output_type": "stream",
     "text": [
      "Duplicates removed from list [1, 2, 3, 4, 5]\n"
     ]
    }
   ],
   "source": [
    "duplicates()"
   ]
  },
  {
   "cell_type": "code",
   "execution_count": null,
   "id": "c93f95e7-719d-4c13-9c02-ef420ed2dab8",
   "metadata": {},
   "outputs": [],
   "source": []
  }
 ],
 "metadata": {
  "kernelspec": {
   "display_name": "Python 3 (ipykernel)",
   "language": "python",
   "name": "python3"
  },
  "language_info": {
   "codemirror_mode": {
    "name": "ipython",
    "version": 3
   },
   "file_extension": ".py",
   "mimetype": "text/x-python",
   "name": "python",
   "nbconvert_exporter": "python",
   "pygments_lexer": "ipython3",
   "version": "3.12.7"
  }
 },
 "nbformat": 4,
 "nbformat_minor": 5
}
