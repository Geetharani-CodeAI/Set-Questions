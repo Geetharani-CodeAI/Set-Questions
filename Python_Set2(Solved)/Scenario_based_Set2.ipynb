{
 "cells": [
  {
   "cell_type": "code",
   "execution_count": 5,
   "id": "071f7542-d4bb-439b-a839-49d4062ccac0",
   "metadata": {},
   "outputs": [],
   "source": [
    "#Write logic to determine whether the amount is positive, negative, or zero.\n",
    "def transac_amt():\n",
    "    amt =int(input(\"Enter your transaction amount:\"))\n",
    "    if(amt > 0):\n",
    "        print(f\"The amount you have entered {amt} is a positive(Deposit)\")\n",
    "    elif(amt < 0):\n",
    "        print(f\"The amount you have entered {amt} is a Negative(Withdrawl)\")\n",
    "    else:\n",
    "        print(f\"The amount you have entered {amt} is Zero. No Transaction\")"
   ]
  },
  {
   "cell_type": "code",
   "execution_count": 6,
   "id": "f3907810-e00e-43a6-852b-7aa5a2ccd9e1",
   "metadata": {},
   "outputs": [
    {
     "name": "stdin",
     "output_type": "stream",
     "text": [
      "Enter your transaction amount: 34\n"
     ]
    },
    {
     "name": "stdout",
     "output_type": "stream",
     "text": [
      "The amount you have entered 34 is a positive(Deposit)\n"
     ]
    }
   ],
   "source": [
    "transac_amt()"
   ]
  },
  {
   "cell_type": "code",
   "execution_count": 46,
   "id": "b8c9770b-a507-49a4-a475-bf11f79b0015",
   "metadata": {},
   "outputs": [],
   "source": [
    "#Write logic to compute the sum of the digits of a given number\n",
    "def sum_of_digits():\n",
    "    n = int(input(\"Enter your 5 digit Passcode:\"))\n",
    "    num = 0\n",
    "    for i in str(n):\n",
    "        num = num+int(i)\n",
    "    print(f\"Sum of digits of {n} is {num}\")       "
   ]
  },
  {
   "cell_type": "code",
   "execution_count": 47,
   "id": "0d68ed28-644e-4ef4-9d58-db9192a2aedc",
   "metadata": {},
   "outputs": [
    {
     "name": "stdin",
     "output_type": "stream",
     "text": [
      "Enter your 5 digit Passcode: 23444\n"
     ]
    },
    {
     "name": "stdout",
     "output_type": "stream",
     "text": [
      "Sum of digits of 23444 is 17\n"
     ]
    }
   ],
   "source": [
    "sum_of_digits()"
   ]
  },
  {
   "cell_type": "code",
   "execution_count": 6,
   "id": "237f4ba2-ca9f-4e9c-a737-2014c3770ab1",
   "metadata": {},
   "outputs": [
    {
     "name": "stdin",
     "output_type": "stream",
     "text": [
      "Enter a number: 355555\n"
     ]
    },
    {
     "name": "stdout",
     "output_type": "stream",
     "text": [
      "reverse = 555553 \n"
     ]
    }
   ],
   "source": [
    "# Logic:1 Write logic to take a number and return its reverse.\n",
    "n = int(input(\"Enter a number:\"))\n",
    "n = str(n)\n",
    "print(f\"Reversed number = {n[::-1]} \")\n"
   ]
  },
  {
   "cell_type": "code",
   "execution_count": null,
   "id": "c53b1843-2de6-4782-a1e6-4bac5fcb5c16",
   "metadata": {},
   "outputs": [],
   "source": [
    "# Logic:2 Write logic to take a number and return its reverse."
   ]
  },
  {
   "cell_type": "code",
   "execution_count": 35,
   "id": "6c5681f0-1b05-4e89-9d66-49902dea879d",
   "metadata": {},
   "outputs": [],
   "source": [
    "#Write logic to check if a given number is prime.\n",
    "def prime(n):\n",
    "    if(n==0):\n",
    "        return(f\"{n} is neither prime not composite\")\n",
    "    if(n<=1):\n",
    "        return(f\"{n} is not Prime\")\n",
    "    if(n==2):\n",
    "        return(f\"{n} is Prime\")\n",
    "    for i in range(2,(int(n**0.5)+1)):\n",
    "        if n%i == 0:\n",
    "            return(f\"{n} is not Prime\")\n",
    "    return(f\"{n} is Prime\")\n"
   ]
  },
  {
   "cell_type": "code",
   "execution_count": 39,
   "id": "3675102d-1ed5-4ded-aa3e-53447a45a202",
   "metadata": {},
   "outputs": [
    {
     "name": "stdin",
     "output_type": "stream",
     "text": [
      "Enter any number: 34\n"
     ]
    },
    {
     "data": {
      "text/plain": [
       "'34 is not Prime'"
      ]
     },
     "execution_count": 39,
     "metadata": {},
     "output_type": "execute_result"
    }
   ],
   "source": [
    "n = int(input(\"Enter any number:\"))\n",
    "prime(n)\n"
   ]
  },
  {
   "cell_type": "code",
   "execution_count": 60,
   "id": "ae1be6dc-74ef-4b44-9ccd-77d1bc4f302a",
   "metadata": {},
   "outputs": [],
   "source": [
    "#Write logic to find the factorial of a given number using recursion.\n",
    "def fact(n):\n",
    "    fact = 1\n",
    "    if n < 0:\n",
    "        return (f\"{n} is a negative value\")\n",
    "    if n == 0:\n",
    "        return fact\n",
    "    for i in range(1, n+1):\n",
    "        fact  = fact * i\n",
    "    return(fact)\n",
    "        "
   ]
  },
  {
   "cell_type": "code",
   "execution_count": 64,
   "id": "ffff2997-7a07-4081-aa0a-07f1ba42a10d",
   "metadata": {},
   "outputs": [
    {
     "name": "stdin",
     "output_type": "stream",
     "text": [
      "Enter any number: 4\n"
     ]
    },
    {
     "data": {
      "text/plain": [
       "24"
      ]
     },
     "execution_count": 64,
     "metadata": {},
     "output_type": "execute_result"
    }
   ],
   "source": [
    "n = int(input(\"Enter any number:\"))\n",
    "fact(n)"
   ]
  },
  {
   "cell_type": "code",
   "execution_count": 78,
   "id": "c3f25e55-dfa8-4319-aeda-136e0e458c39",
   "metadata": {},
   "outputs": [],
   "source": [
    "# Write logic to check whether a given number is an Armstrong number.\n",
    "\n",
    "def arm(n):\n",
    "    num = str(n)\n",
    "    digit = len(num)\n",
    "    sum = 0\n",
    "    for i in num:\n",
    "        sum += int(i)**digit\n",
    "    if sum == n:\n",
    "        return(f\"{n} is an Armstrong number\")\n",
    "    return(f\"{n} is not an Armstrong number\")\n",
    "    \n",
    "    "
   ]
  },
  {
   "cell_type": "code",
   "execution_count": 79,
   "id": "201deccd-e2b0-4d42-89a2-40063faadbc4",
   "metadata": {},
   "outputs": [
    {
     "name": "stdin",
     "output_type": "stream",
     "text": [
      "Enter any number: 340\n"
     ]
    },
    {
     "data": {
      "text/plain": [
       "'340 is not an Armstrong number'"
      ]
     },
     "execution_count": 79,
     "metadata": {},
     "output_type": "execute_result"
    }
   ],
   "source": [
    "n = int(input(\"Enter any number:\"))\n",
    "arm(n)"
   ]
  },
  {
   "cell_type": "code",
   "execution_count": 84,
   "id": "c52bfedc-d32a-4177-a792-2786545f37a7",
   "metadata": {},
   "outputs": [
    {
     "name": "stdin",
     "output_type": "stream",
     "text": [
      "Enter a String rose\n"
     ]
    },
    {
     "data": {
      "text/plain": [
       "'eosr'"
      ]
     },
     "execution_count": 84,
     "metadata": {},
     "output_type": "execute_result"
    }
   ],
   "source": [
    "#swap first and last character\n",
    "string = input(\"Enter a String\")\n",
    "if len(string)>1:\n",
    "    swap = string[-1] + string[1:-1] + string[0]\n",
    "swap"
   ]
  },
  {
   "cell_type": "code",
   "execution_count": 92,
   "id": "778baf8e-43ee-4fdd-a8ae-2e0b6e111206",
   "metadata": {},
   "outputs": [
    {
     "name": "stdin",
     "output_type": "stream",
     "text": [
      "Enter any number: 45\n"
     ]
    },
    {
     "data": {
      "text/plain": [
       "'0b101101'"
      ]
     },
     "execution_count": 92,
     "metadata": {},
     "output_type": "execute_result"
    }
   ],
   "source": [
    "# Write logic to convert a given number into its binary equivalent. \n",
    "n = int(input(\"Enter any number:\"))\n",
    "binary = bin(n)\n",
    "binary"
   ]
  },
  {
   "cell_type": "code",
   "execution_count": 23,
   "id": "6bfd499d-f014-40f7-a223-a29e06dc2585",
   "metadata": {},
   "outputs": [],
   "source": [
    "#Write logic to convert a given decimal number into its binary equivalent using recursion.\n",
    "\n",
    "def binary(n):\n",
    "    binary = ''\n",
    "    while n>0:\n",
    "        remainder = n%2\n",
    "        binary += str(remainder)\n",
    "        n = n //2\n",
    "    return (f\"Binary equivalent of {n} is {binary[::-1]}\")"
   ]
  },
  {
   "cell_type": "code",
   "execution_count": 24,
   "id": "a119f72a-9564-45e3-9429-f8ecb2875446",
   "metadata": {},
   "outputs": [
    {
     "name": "stdin",
     "output_type": "stream",
     "text": [
      "Enter any number: 35\n"
     ]
    },
    {
     "data": {
      "text/plain": [
       "'Binary equivalent of 0 is 100011'"
      ]
     },
     "execution_count": 24,
     "metadata": {},
     "output_type": "execute_result"
    }
   ],
   "source": [
    "n = int(input(\"Enter any number:\"))\n",
    "binary(n)"
   ]
  },
  {
   "cell_type": "code",
   "execution_count": 55,
   "id": "647a06f9-c3ea-4cc0-917a-1fe27bb98fac",
   "metadata": {},
   "outputs": [
    {
     "name": "stdin",
     "output_type": "stream",
     "text": [
      "Enter a Sentence: long long agi si long ago there is a village\n"
     ]
    },
    {
     "name": "stdout",
     "output_type": "stream",
     "text": [
      "village\n"
     ]
    }
   ],
   "source": [
    "# : Write logic to find the longest word in a sentence.\n",
    "\n",
    "sentence = input(\"Enter a Sentence:\")\n",
    "words = sentence.split()\n",
    "long = \" \"\n",
    "for i in words:\n",
    "    if len(i) > len(long):\n",
    "        long = i\n",
    "print(long) \n",
    "       "
   ]
  },
  {
   "cell_type": "code",
   "execution_count": 90,
   "id": "144f28e1-1d8b-4668-a7a6-3824da0856a0",
   "metadata": {},
   "outputs": [],
   "source": [
    "# Write logic to check whether two given strings are anagrams.\n",
    "\n",
    "def anagrams():\n",
    "    str1 = sorted(string1.lower().replace(\" \",\"\"))\n",
    "    str2 = sorted(string2.lower().replace(\" \",\"\"))\n",
    "    print(str1)\n",
    "    print(str2)\n",
    "    if len(str1) == len(str2):\n",
    "        if str1 == str2:\n",
    "            print(f\"Two given strings {string1} and {string2} are Anagrams\")\n",
    "    else:\n",
    "        print(f\"Two given strings {string1} and {string2} are not Anagrams\")\n",
    "   \n",
    "    "
   ]
  },
  {
   "cell_type": "code",
   "execution_count": 91,
   "id": "48fb5e51-7452-4fbd-8494-e3cd293805ca",
   "metadata": {},
   "outputs": [
    {
     "name": "stdin",
     "output_type": "stream",
     "text": [
      "Enter String1: ther is a\n",
      "Enter String2: there is a\n"
     ]
    },
    {
     "name": "stdout",
     "output_type": "stream",
     "text": [
      "['a', 'e', 'h', 'i', 'r', 's', 't']\n",
      "['a', 'e', 'e', 'h', 'i', 'r', 's', 't']\n",
      "Two given strings ther is a and there is a are not Anagrams\n"
     ]
    }
   ],
   "source": [
    "string1 = input(\"Enter String1:\")\n",
    "string2 = input(\"Enter String2:\")\n",
    "anagrams()"
   ]
  },
  {
   "cell_type": "code",
   "execution_count": null,
   "id": "ac9f43f1-682f-4f66-aaea-a1d763ef1f31",
   "metadata": {},
   "outputs": [],
   "source": []
  }
 ],
 "metadata": {
  "kernelspec": {
   "display_name": "Python 3 (ipykernel)",
   "language": "python",
   "name": "python3"
  },
  "language_info": {
   "codemirror_mode": {
    "name": "ipython",
    "version": 3
   },
   "file_extension": ".py",
   "mimetype": "text/x-python",
   "name": "python",
   "nbconvert_exporter": "python",
   "pygments_lexer": "ipython3",
   "version": "3.13.7"
  }
 },
 "nbformat": 4,
 "nbformat_minor": 5
}
