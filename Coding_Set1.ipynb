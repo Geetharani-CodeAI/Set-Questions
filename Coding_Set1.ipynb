{
 "cells": [
  {
   "cell_type": "code",
   "execution_count": 1,
   "id": "5fd5c475",
   "metadata": {},
   "outputs": [
    {
     "name": "stdout",
     "output_type": "stream",
     "text": [
      "1 2 3 4 5 "
     ]
    }
   ],
   "source": [
    "#Write a Python program that prints numbers from 1 to 5.\n",
    "for temp in range(1,6):\n",
    "    print(temp,end=\" \")\n"
   ]
  },
  {
   "cell_type": "code",
   "execution_count": 2,
   "id": "3c8bc472",
   "metadata": {},
   "outputs": [
    {
     "name": "stdout",
     "output_type": "stream",
     "text": [
      "2 4 6 8 10 "
     ]
    }
   ],
   "source": [
    "#Write a Python program to print the first 5 even numbers. Expected Output:2 4 6 8 10\n",
    "for temp in range(2,11,2):\n",
    "    print(temp,end=\" \")\n"
   ]
  },
  {
   "cell_type": "code",
   "execution_count": 3,
   "id": "5e7af211",
   "metadata": {},
   "outputs": [
    {
     "name": "stdout",
     "output_type": "stream",
     "text": [
      "Output: 55\n"
     ]
    }
   ],
   "source": [
    "#3.Write a Python program to print the sum of numbers from 1 to 10. Expected Output:55\n",
    "sum=0\n",
    "for i in range(0,11):\n",
    "    sum=sum+i\n",
    "temp=sum\n",
    "print(\"Output:\",temp)\n",
    "\n",
    "    \n",
    "    "
   ]
  },
  {
   "cell_type": "code",
   "execution_count": 7,
   "id": "ac09aa1a",
   "metadata": {},
   "outputs": [],
   "source": [
    "#4.Write a Python function to find the factorial of 5. Expected Output:120\n",
    "def fact(n):\n",
    "    if n<2:\n",
    "        factorial=1\n",
    "        return factorial\n",
    "    else:\n",
    "        factorial=n*fact(n-1)\n",
    "        return factorial"
   ]
  },
  {
   "cell_type": "code",
   "execution_count": 8,
   "id": "9ce015b2-f7a1-43b9-87f9-c625722f2108",
   "metadata": {},
   "outputs": [
    {
     "name": "stdin",
     "output_type": "stream",
     "text": [
      "Enter any number: 5\n"
     ]
    },
    {
     "name": "stdout",
     "output_type": "stream",
     "text": [
      "Factorial of 5 is 120\n"
     ]
    }
   ],
   "source": [
    "n=int(input(\"Enter any number:\"))\n",
    "fact(n)\n",
    "print(\"Factorial of\",n,\"is\",fact(n))"
   ]
  },
  {
   "cell_type": "code",
   "execution_count": 19,
   "id": "8ab9fc8a",
   "metadata": {},
   "outputs": [],
   "source": [
    "#5.Write a Python program to check if a number is prime. Expected Output (for input 7):7 is a prime number\n",
    "import math\n",
    "def prime(n):\n",
    "    if(n<=1):\n",
    "       print(\"The given number is not a Prime Number \")\n",
    "       return(n,\"is not a Prime Number\")\n",
    "    if(n==2):\n",
    "       print(\"The given number is a Prime Number \")\n",
    "       return(n,\"is a Prime Number\")\n",
    "    for i in range(2,int(math.sqrt(n))+1):\n",
    "       if(n%i)==0:\n",
    "         return(n,\"is not a Prime Number\")\n",
    "    return(n,\"is a Prime Number\")               \n",
    "    "
   ]
  },
  {
   "cell_type": "code",
   "execution_count": 20,
   "id": "479308f4-bf14-4d87-acdb-0a30c68820e6",
   "metadata": {},
   "outputs": [
    {
     "name": "stdin",
     "output_type": "stream",
     "text": [
      "Enter any Number: 13\n"
     ]
    },
    {
     "name": "stdout",
     "output_type": "stream",
     "text": [
      "(13, 'is a Prime Number')\n"
     ]
    }
   ],
   "source": [
    "n=int(input(\"Enter any Number:\"))\n",
    "result=prime(n)\n",
    "print(result)"
   ]
  }
 ],
 "metadata": {
  "kernelspec": {
   "display_name": "Python 3 (ipykernel)",
   "language": "python",
   "name": "python3"
  },
  "language_info": {
   "codemirror_mode": {
    "name": "ipython",
    "version": 3
   },
   "file_extension": ".py",
   "mimetype": "text/x-python",
   "name": "python",
   "nbconvert_exporter": "python",
   "pygments_lexer": "ipython3",
   "version": "3.12.3"
  }
 },
 "nbformat": 4,
 "nbformat_minor": 5
}
