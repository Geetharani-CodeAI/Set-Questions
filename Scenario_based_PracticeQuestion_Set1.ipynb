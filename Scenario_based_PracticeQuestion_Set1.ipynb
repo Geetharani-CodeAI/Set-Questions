{
 "cells": [
  {
   "cell_type": "code",
   "execution_count": 40,
   "id": "437fa7fa-41ea-4466-8093-98d64e2d313e",
   "metadata": {},
   "outputs": [],
   "source": [
    "#check if a user is eligible to vote based on their age.\n",
    "def Eligible():\n",
    "    age = int(input(\"Enter your Age:\"))\n",
    "    if(age>=18):\n",
    "        print(\"Your Age is Eligible to Vote\")\n",
    "    else:\n",
    "        print(\"Your Age is Not Eligible to Vote\")    "
   ]
  },
  {
   "cell_type": "code",
   "execution_count": 41,
   "id": "4e13371c-37f8-4cd9-9244-c3f25df53d6e",
   "metadata": {},
   "outputs": [
    {
     "name": "stdin",
     "output_type": "stream",
     "text": [
      "Enter your Age: 17\n"
     ]
    },
    {
     "name": "stdout",
     "output_type": "stream",
     "text": [
      "Your Age is Not Eligible to Vote\n"
     ]
    }
   ],
   "source": [
    "Eligible()"
   ]
  },
  {
   "cell_type": "code",
   "execution_count": 26,
   "id": "5787ba4c-4f97-4f3b-bea9-9e2730fc2b62",
   "metadata": {},
   "outputs": [],
   "source": [
    "#logic to identify and return the largest number from a given list.\n",
    "def list():\n",
    "    num = int(input(\"Enter the list of number in counts:\"))\n",
    "    num_list = []\n",
    "    for i in range(num):\n",
    "        new_list = input(f\"Element = {i+1}: \")\n",
    "        num_list.append(new_list)\n",
    "    print(num_list)\n",
    "    large = num_list[0]\n",
    "    for i in num_list:\n",
    "        if(i>large):\n",
    "            large = i\n",
    "    print(f\"The largest number in this list is : {large} \") \n"
   ]
  },
  {
   "cell_type": "code",
   "execution_count": 27,
   "id": "ae5d8934-9c03-4078-9ddb-c67b9976dae0",
   "metadata": {},
   "outputs": [
    {
     "name": "stdin",
     "output_type": "stream",
     "text": [
      "Enter the list of number in counts: 2\n",
      "Element = 1:  67\n",
      "Element = 2:  89\n"
     ]
    },
    {
     "name": "stdout",
     "output_type": "stream",
     "text": [
      "['67', '89']\n",
      "The largest number in this list is : 89 \n"
     ]
    }
   ],
   "source": [
    "list()"
   ]
  },
  {
   "cell_type": "code",
   "execution_count": 39,
   "id": "84306a72-a85a-44c4-a6f2-23ba1c108012",
   "metadata": {},
   "outputs": [
    {
     "name": "stdin",
     "output_type": "stream",
     "text": [
      "Enter the Salary Amount: 53456\n"
     ]
    },
    {
     "name": "stdout",
     "output_type": "stream",
     "text": [
      "You are Eligible for Bonus : 5345.6\n",
      "Your Total Salary with Bonus : 58801.6 \n"
     ]
    }
   ],
   "source": [
    "#Write logic to determine the bonus amount based on the given salary.\n",
    "n = int(input(\"Enter the Salary Amount:\"))\n",
    "if n > 50000:\n",
    "    print(f\"You are Eligible for Bonus : {0.1 * n}\")\n",
    "    n = n + (0.1 * n)\n",
    "    print(f\"Your Total Salary with Bonus : {n} \")\n",
    "\n"
   ]
  },
  {
   "cell_type": "code",
   "execution_count": 52,
   "id": "808a25ce-aa11-4867-936b-8227b5b86802",
   "metadata": {},
   "outputs": [],
   "source": [
    "#logic to check whether a given number is even or odd.\n",
    "def EvenOdd(n):\n",
    "    if(n%2==0):\n",
    "        print(\"The Given number is an Even number\")\n",
    "    else:\n",
    "        print(\"The Given number is an Odd number\")"
   ]
  },
  {
   "cell_type": "code",
   "execution_count": 53,
   "id": "95a0a526-de06-4a3f-9c60-fe98f6744052",
   "metadata": {},
   "outputs": [
    {
     "name": "stdin",
     "output_type": "stream",
     "text": [
      "Enter a number: 3789\n"
     ]
    },
    {
     "name": "stdout",
     "output_type": "stream",
     "text": [
      "The Given number is an Odd number\n"
     ]
    }
   ],
   "source": [
    "n = int(input(\"Enter a number:\"))\n",
    "EvenOdd(n)"
   ]
  },
  {
   "cell_type": "code",
   "execution_count": 61,
   "id": "ef195679-5c6c-4ea8-9d0e-6c165c4d3b2d",
   "metadata": {},
   "outputs": [
    {
     "name": "stdin",
     "output_type": "stream",
     "text": [
      "Enter a string reversed string\n"
     ]
    },
    {
     "name": "stdout",
     "output_type": "stream",
     "text": [
      "Reversed_string:gnirts desrever\n"
     ]
    }
   ],
   "source": [
    "#Write logic to take a word or sentence as input and produce its reversed version.\n",
    "string = input(\"Enter a string\")\n",
    "print(f\"Reversed_string:{string[::-1]}\")"
   ]
  },
  {
   "cell_type": "code",
   "execution_count": 40,
   "id": "9bf7cd0f-e45a-413e-83fb-3140e4e2671c",
   "metadata": {},
   "outputs": [],
   "source": [
    "#Write logic to check if a student has passed a subject by scoring at least 40 marks.\n",
    "subject_marks = []\n",
    "def grade():\n",
    "    for i in range(0,5):\n",
    "        sub = int(input(f\"Enter Subject{i+1} Mark:\"))\n",
    "        subject_marks.append(sub)\n",
    "    print(subject_marks)\n",
    "    for n in subject_marks:\n",
    "        if(n < 40):\n",
    "            print(\"Fail\")\n",
    "            return \"Fail\"\n",
    "    else:\n",
    "        print(\"Pass\")\n",
    "        return \"Pass\"                \n",
    "             \n"
   ]
  },
  {
   "cell_type": "code",
   "execution_count": 41,
   "id": "29a6ff32-8a2e-4e24-ae19-05f2ae858e98",
   "metadata": {},
   "outputs": [
    {
     "name": "stdin",
     "output_type": "stream",
     "text": [
      "Enter Subject1 Mark: 34\n",
      "Enter Subject2 Mark: 45\n",
      "Enter Subject3 Mark: 67\n",
      "Enter Subject4 Mark: 23\n",
      "Enter Subject5 Mark: 67\n"
     ]
    },
    {
     "name": "stdout",
     "output_type": "stream",
     "text": [
      "[34, 45, 67, 23, 67]\n",
      "Fail\n"
     ]
    },
    {
     "data": {
      "text/plain": [
       "'Fail'"
      ]
     },
     "execution_count": 41,
     "metadata": {},
     "output_type": "execute_result"
    }
   ],
   "source": [
    "grade()"
   ]
  },
  {
   "cell_type": "code",
   "execution_count": 70,
   "id": "bf430e0e-6cef-4c32-bdd2-7508df0e02d5",
   "metadata": {},
   "outputs": [
    {
     "name": "stdin",
     "output_type": "stream",
     "text": [
      "Enter the amount of Purchase: 200\n"
     ]
    },
    {
     "name": "stdout",
     "output_type": "stream",
     "text": [
      "Total Amount after discount =160.0\n"
     ]
    }
   ],
   "source": [
    "#Write logic to calculate the final amount to be paid after applying the discount.\n",
    "tot_amount = float(input(\"Enter the amount of Purchase:\"))\n",
    "if tot_amount > 100:\n",
    "   print(f\"Total Amount after discount ={tot_amount - (0.2*tot_amount)}\")\n",
    "else:\n",
    "    print(\"Total Amount = \", tot_amount)"
   ]
  },
  {
   "cell_type": "code",
   "execution_count": 73,
   "id": "dd5b6e46-3945-476a-b3a5-a57dc24c2615",
   "metadata": {},
   "outputs": [],
   "source": [
    "#Write logic to check if a user has enough balance before allowing a withdrawal and update the remaining balance\n",
    "def withdraw():\n",
    "    account_balance = 1000\n",
    "    amt = int(input(\"Enter Withdrawl amount:\"))\n",
    "    if(amt<= 0 ):\n",
    "        print(\"Enter the correct Withdrawl amount\")\n",
    "    elif(amt<=1000):\n",
    "        print(f\"Withdrawl Success; Account_Balance={account_balance - amt}\")\n",
    "    else:\n",
    "        print(\"Withdrawl unsuccess; your account balance =\",account_balance)\n",
    "        "
   ]
  },
  {
   "cell_type": "code",
   "execution_count": 74,
   "id": "dc0258be-df42-4dd8-86ca-0e89ce60fbf2",
   "metadata": {},
   "outputs": [
    {
     "name": "stdin",
     "output_type": "stream",
     "text": [
      "Enter Withdrawl amount: 890\n"
     ]
    },
    {
     "name": "stdout",
     "output_type": "stream",
     "text": [
      "Withdrawl Success; Account_Balance=110\n"
     ]
    }
   ],
   "source": [
    "withdraw()"
   ]
  },
  {
   "cell_type": "code",
   "execution_count": 10,
   "id": "58b08239-fe91-4212-9281-20e7d9fd7d50",
   "metadata": {},
   "outputs": [
    {
     "name": "stdin",
     "output_type": "stream",
     "text": [
      "Enter an year: 1300\n"
     ]
    },
    {
     "name": "stdout",
     "output_type": "stream",
     "text": [
      "1300 is not a Leap Year\n"
     ]
    }
   ],
   "source": [
    "#Write logic to determine whether a given year is a leap year\n",
    "year = int(input(\"Enter an year:\"))\n",
    "if(year % 4 ==0) and year % 100!= 0 or year % 400 == 0:\n",
    "    print(f\"{year} is a Leap Year\")\n",
    "else:\n",
    "    print(f\"{year} is not a Leap Year\")\n"
   ]
  },
  {
   "cell_type": "code",
   "execution_count": 1,
   "id": "a6605a0e-362b-4541-b586-e9a5bb801969",
   "metadata": {
    "scrolled": true
   },
   "outputs": [
    {
     "name": "stdin",
     "output_type": "stream",
     "text": [
      "Enter the number of elements in the list: 4\n",
      "Element 1: 34\n",
      "Element 2: 675\n",
      "Element 3: 896\n",
      "Element 4: 57\n"
     ]
    },
    {
     "name": "stdout",
     "output_type": "stream",
     "text": [
      "num = [34, 675, 896, 57]\n"
     ]
    },
    {
     "data": {
      "text/plain": [
       "[34, 896]"
      ]
     },
     "execution_count": 1,
     "metadata": {},
     "output_type": "execute_result"
    }
   ],
   "source": [
    "#  Write logic to extract and return only the even numbers from a list.\n",
    "\n",
    "n = int(input(\"Enter the number of elements in the list:\"))\n",
    "num = []\n",
    "for i in range(n):\n",
    "    new_list = int(input(f\"Element {i+1}:\"))   \n",
    "    num.append(new_list)\n",
    "print(f\"num = {num}\")\n",
    "num_list = []\n",
    "for i in num:\n",
    "    if(i % 2 == 0):\n",
    "        num_list.append(i)\n",
    "num_list"
   ]
  },
  {
   "cell_type": "code",
   "execution_count": 61,
   "id": "b2a29ecc-8d3a-4d36-8dc2-490a44b6043d",
   "metadata": {},
   "outputs": [
    {
     "data": {
      "text/plain": [
       "[2, 4, 8, 12, 22, 56, 232]"
      ]
     },
     "execution_count": 61,
     "metadata": {},
     "output_type": "execute_result"
    }
   ],
   "source": [
    "num = [56,4,2,3,8,23,45,67,12,22,232]\n",
    "num_list = []\n",
    "for i in num:\n",
    "    if(i % 2 == 0):\n",
    "        num_list.append(i)\n",
    "num_list\n",
    "num_list.sort()\n",
    "num_list"
   ]
  },
  {
   "cell_type": "code",
   "execution_count": null,
   "id": "7f306b9b-c289-473e-9456-f67cf1878b72",
   "metadata": {},
   "outputs": [],
   "source": []
  }
 ],
 "metadata": {
  "kernelspec": {
   "display_name": "Python 3 (ipykernel)",
   "language": "python",
   "name": "python3"
  },
  "language_info": {
   "codemirror_mode": {
    "name": "ipython",
    "version": 3
   },
   "file_extension": ".py",
   "mimetype": "text/x-python",
   "name": "python",
   "nbconvert_exporter": "python",
   "pygments_lexer": "ipython3",
   "version": "3.12.3"
  }
 },
 "nbformat": 4,
 "nbformat_minor": 5
}
