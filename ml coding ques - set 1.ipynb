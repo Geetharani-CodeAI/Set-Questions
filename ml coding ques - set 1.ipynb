{
 "cells": [
  {
   "cell_type": "markdown",
   "id": "dc429a95",
   "metadata": {},
   "source": [
    "#1.\n",
    "Question 1:A retail store wants to identify customers who make frequent purchases. Given the dataset below, write a Python program to:\n",
    "Group customers by their IDs.\n",
    "\n",
    "\n",
    "Calculate the total purchase amount per customer.\n",
    "\n",
    "\n",
    "Identify the top 3 customers with the highest purchase amounts.\n",
    "\n",
    "\n",
    "Dataset:\n",
    "data = {'Customer_ID': [101, 102, 103, 101, 104, 102, 101, 105, 102, 103],\n",
    "        'Purchase_Amount': [200, 150, 180, 220, 300, 200, 100, 400, 250, 300]}\n",
    "\n",
    "Expected Output:\n",
    "Total Purchases per Customer:\n",
    "   Customer_ID  Purchase_Amount\n",
    "0          101              520\n",
    "1          102              600\n",
    "2          103              480\n",
    "3          104              300\n",
    "4          105              400\n",
    "\n",
    "Top 3 Frequent Customers:\n",
    "   Customer_ID  Purchase_Amount\n",
    "1          102              600\n",
    "0          101              520\n",
    "2          103              480\n"
   ]
  },
  {
   "cell_type": "code",
   "execution_count": 9,
   "id": "68c93579",
   "metadata": {},
   "outputs": [
    {
     "name": "stdout",
     "output_type": "stream",
     "text": [
      "Total Purchases per Customer:\n",
      "              Purchase_Amount\n",
      "Customer_ID                 \n",
      "101                      520\n",
      "102                      600\n",
      "103                      480\n",
      "104                      300\n",
      "105                      400\n",
      "Top 3 frequent Customers:\n",
      "             Purchase_Amount\n",
      "Customer_ID                 \n",
      "102                      600\n",
      "101                      520\n",
      "103                      480\n"
     ]
    }
   ],
   "source": [
    "# Answer 1:\n",
    "import pandas as pd\n",
    "data = pd.DataFrame({'Customer_ID': [101, 102, 103, 101, 104, 102, 101, 105, 102, 103],\n",
    "        'Purchase_Amount': [200, 150, 180, 220, 300, 200, 100, 400, 250, 300]})\n",
    "\n",
    "total = data.groupby('Customer_ID')['Purchase_Amount'].agg(Purchase_Amount = 'sum')\n",
    "\n",
    "\n",
    "print(f\"Total Purchases per Customer:\\n {total}\")\n",
    "\n",
    "top_3 = total.nlargest(3, columns = ['Purchase_Amount'])\n",
    "print(f\"Top 3 frequent Customers:\\n{top_3}\")"
   ]
  },
  {
   "cell_type": "markdown",
   "id": "17bb36e6",
   "metadata": {},
   "source": [
    "#2. Predicting House Prices with Linear Regression\n",
    "A real estate company wants to predict house prices based on square footage. Write a Python program to:\n",
    "Train a Linear Regression model.\n",
    "\n",
    "\n",
    "Predict house prices for given test data.\n",
    "\n",
    "\n",
    "Dataset:\n",
    "data = {'Square_Feet': [1500, 2000, 2500, 3000, 3500],\n",
    "        'Price': [300000, 400000, 500000, 600000, 700000]}\n",
    "\n",
    "Test Data: [[1800], [2800]]\n",
    "Expected Output:\n",
    "Predicted Prices:\n",
    "[360000. 560000.]\n",
    "\n"
   ]
  },
  {
   "cell_type": "code",
   "execution_count": 14,
   "id": "0b398411",
   "metadata": {},
   "outputs": [
    {
     "name": "stdout",
     "output_type": "stream",
     "text": [
      "   Square_Feet   Price\n",
      "0         1500  300000\n",
      "1         2000  400000\n",
      "2         2500  500000\n",
      "3         3000  600000\n",
      "4         3500  700000\n",
      "Predicted Prices:\n",
      "[360000. 560000.]\n"
     ]
    }
   ],
   "source": [
    "# Answer:2\n",
    "import pandas as pd\n",
    "import numpy as np\n",
    "from sklearn.linear_model import LinearRegression\n",
    "\n",
    "data = {'Square_Feet': [1500, 2000, 2500, 3000, 3500],\n",
    "        'Price': [300000, 400000, 500000, 600000, 700000]}\n",
    "\n",
    "df = pd.DataFrame(data)\n",
    "print(df)\n",
    "\n",
    "X = df[['Square_Feet']] \n",
    "Y = df['Price']\n",
    "\n",
    "regressor = LinearRegression()\n",
    "regressor.fit(X,Y)\n",
    "\n",
    "X_test = [[1800],[2800]]\n",
    "Y_pred = regressor.predict(X_test)\n",
    "print(f\"Predicted Prices:\\n{Y_pred}\")"
   ]
  },
  {
   "cell_type": "markdown",
   "id": "88d0a0ba",
   "metadata": {},
   "source": [
    "#3:\n",
    "Identifying Frequent Labels in a Dataset\n",
    "A company wants to identify the top 3 most common categories in a dataset. Given the dataset below, write a Python program to:\n",
    "Group the data by Category.\n",
    "\n",
    "\n",
    "Count the total occurrences of each category.\n",
    "\n",
    "\n",
    "Identify the top 3 most frequent categories.\n",
    "\n",
    "\n",
    "Dataset:\n",
    "data = {'Category': ['A', 'B', 'C', 'A', 'D', 'B', 'A', 'E', 'B', 'C', 'C', 'A'],\n",
    "        'Value': [10, 15, 20, 30, 25, 18, 22, 40, 35, 50, 45, 15]}\n",
    "\n",
    "Expected Output:\n",
    "\n",
    "Total Occurrences per Category:\n",
    "  Category  Count\n",
    "0        A      4\n",
    "1        B      3\n",
    "2        C      3\n",
    "3        D      1\n",
    "4        E      1\n",
    "\n",
    "Top 3 Frequent Categories:\n",
    "  Category  Count\n",
    "0        A      4\n",
    "1        B      3\n",
    "2        C      3\n"
   ]
  },
  {
   "cell_type": "code",
   "execution_count": 10,
   "id": "401e3903",
   "metadata": {},
   "outputs": [
    {
     "name": "stdout",
     "output_type": "stream",
     "text": [
      "Total Occurrences per Category:\n",
      "   Category  Counts\n",
      "0        A       4\n",
      "1        B       3\n",
      "2        C       3\n",
      "3        D       1\n",
      "4        E       1\n"
     ]
    },
    {
     "data": {
      "text/html": [
       "<div>\n",
       "<style scoped>\n",
       "    .dataframe tbody tr th:only-of-type {\n",
       "        vertical-align: middle;\n",
       "    }\n",
       "\n",
       "    .dataframe tbody tr th {\n",
       "        vertical-align: top;\n",
       "    }\n",
       "\n",
       "    .dataframe thead th {\n",
       "        text-align: right;\n",
       "    }\n",
       "</style>\n",
       "<table border=\"1\" class=\"dataframe\">\n",
       "  <thead>\n",
       "    <tr style=\"text-align: right;\">\n",
       "      <th></th>\n",
       "      <th>Category</th>\n",
       "      <th>Counts</th>\n",
       "    </tr>\n",
       "  </thead>\n",
       "  <tbody>\n",
       "    <tr>\n",
       "      <th>0</th>\n",
       "      <td>A</td>\n",
       "      <td>4</td>\n",
       "    </tr>\n",
       "    <tr>\n",
       "      <th>1</th>\n",
       "      <td>B</td>\n",
       "      <td>3</td>\n",
       "    </tr>\n",
       "    <tr>\n",
       "      <th>2</th>\n",
       "      <td>C</td>\n",
       "      <td>3</td>\n",
       "    </tr>\n",
       "  </tbody>\n",
       "</table>\n",
       "</div>"
      ],
      "text/plain": [
       "  Category  Counts\n",
       "0        A       4\n",
       "1        B       3\n",
       "2        C       3"
      ]
     },
     "execution_count": 10,
     "metadata": {},
     "output_type": "execute_result"
    }
   ],
   "source": [
    "# Answer : 3\n",
    "import pandas as pd\n",
    "data = pd.DataFrame({'Category': ['A', 'B', 'C', 'A', 'D', 'B', 'A', 'E', 'B', 'C', 'C', 'A'],\n",
    "        'Value': [10, 15, 20, 30, 25, 18, 22, 40, 35, 50, 45, 15]})\n",
    "data\n",
    "total = data.groupby([\"Category\"])['Value'].count().reset_index(name = 'Counts')\n",
    "\n",
    "print(f\"Total Occurrences per Category:\\n {total}\")\n",
    "top_3 = total.head(3)\n",
    "top_3\n"
   ]
  },
  {
   "cell_type": "code",
   "execution_count": null,
   "id": "4a446db8",
   "metadata": {},
   "outputs": [],
   "source": []
  },
  {
   "cell_type": "markdown",
   "id": "4f451bd6",
   "metadata": {},
   "source": [
    "#4.\n",
    "Predicting Missing Values Using Mean Imputation\n",
    "A dataset contains missing values in the Age column. Write a Python program to:\n",
    "Replace missing values with the mean of the column.\n",
    "\n",
    "\n",
    "Display the updated DataFrame.\n",
    "\n",
    "\n",
    "Dataset:\n",
    "data = {'Name': ['Alice', 'Bob', 'Charlie', 'David', 'Eve'],\n",
    "        'Age': [25, 30, None, 35, None]}\n",
    "\n",
    "Expected Output:\n",
    "\n",
    "Original Data:\n",
    "     Name   Age\n",
    "0  Alice  25.0\n",
    "1    Bob  30.0\n",
    "2 Charlie   NaN\n",
    "3  David  35.0\n",
    "4    Eve   NaN\n",
    "\n",
    "Data after Imputation:\n",
    "     Name   Age\n",
    "0  Alice  25.0\n",
    "1    Bob  30.0\n",
    "2 Charlie  30.0\n",
    "3  David  35.0\n",
    "4    Eve  30.0\n"
   ]
  },
  {
   "cell_type": "code",
   "execution_count": 4,
   "id": "2df8032e",
   "metadata": {},
   "outputs": [
    {
     "name": "stdout",
     "output_type": "stream",
     "text": [
      "Original Data:\n",
      "       Name   Age\n",
      "0    Alice  25.0\n",
      "1      Bob  30.0\n",
      "2  Charlie   NaN\n",
      "3    David  35.0\n",
      "4      Eve   NaN\n",
      "\n",
      "\n",
      "Data after imputation:\n",
      "       Name   Age\n",
      "0    Alice  25.0\n",
      "1      Bob  30.0\n",
      "2  Charlie  30.0\n",
      "3    David  35.0\n",
      "4      Eve  30.0\n"
     ]
    },
    {
     "name": "stderr",
     "output_type": "stream",
     "text": [
      "C:\\Users\\Hxtreme\\anaconda3\\envs\\AIML\\lib\\site-packages\\ipykernel_launcher.py:5: FutureWarning: Dropping of nuisance columns in DataFrame reductions (with 'numeric_only=None') is deprecated; in a future version this will raise TypeError.  Select only valid columns before calling the reduction.\n",
      "  \"\"\"\n"
     ]
    }
   ],
   "source": [
    "# Answer:4\n",
    "data = pd.DataFrame({'Name': ['Alice', 'Bob', 'Charlie', 'David', 'Eve'],\n",
    "        'Age': [25, 30, None, 35, None]})\n",
    "print(f\"Original Data:\\n {data}\")\n",
    "mean_ = data.mean()\n",
    "data.fillna(mean_,inplace = True)\n",
    "print('\\n')\n",
    "print(f\"Data after imputation:\\n {data}\")"
   ]
  },
  {
   "cell_type": "markdown",
   "id": "c763c715",
   "metadata": {},
   "source": [
    "# 5: Implementing a Simple Linear Regression Model\n",
    "You are given a dataset with Experience (years) and Salary ($). Write a Python program to:\n",
    "Train a Linear Regression model.\n",
    "\n",
    "\n",
    "Predict the salary for an individual with 6 years of experience.\n",
    "\n",
    "\n",
    "Dataset:\n",
    "import pandas as pd\n",
    "\n",
    "data = {'Experience': [1, 2, 3, 4, 5], \n",
    "        'Salary': [30000, 35000, 40000, 45000, 50000]}\n",
    "df = pd.DataFrame(data)\n",
    "\n",
    "Expected Output (Example):\n",
    "\n",
    "Predicted Salary for 6 years of experience: $55000\n"
   ]
  },
  {
   "cell_type": "code",
   "execution_count": 25,
   "id": "2af98454",
   "metadata": {},
   "outputs": [
    {
     "name": "stdout",
     "output_type": "stream",
     "text": [
      "   Experience  Salary\n",
      "0           1   30000\n",
      "1           2   35000\n",
      "2           3   40000\n",
      "3           4   45000\n",
      "4           5   50000\n",
      "Predicted Salary for 6 years of experience: $55000.0\n"
     ]
    }
   ],
   "source": [
    "# Answer:5\n",
    "import pandas as pd \n",
    "from sklearn.linear_model import LinearRegression\n",
    "\n",
    "data = {'Experience': [1, 2, 3, 4, 5], \n",
    "        'Salary': [30000, 35000, 40000, 45000, 50000]}\n",
    "df = pd.DataFrame(data)\n",
    "print(df)\n",
    "\n",
    "X = df[['Experience']]\n",
    "y = df['Salary']\n",
    "\n",
    "regressor = LinearRegression()\n",
    "regressor.fit(X,y)\n",
    "\n",
    "X_test = [[6]]\n",
    "y_pred = regressor.predict(X_test)\n",
    "y_pred\n",
    "print(f\"Predicted Salary for 6 years of experience: ${y_pred[0]}\")\n"
   ]
  },
  {
   "cell_type": "code",
   "execution_count": null,
   "id": "aa8411de",
   "metadata": {},
   "outputs": [],
   "source": []
  },
  {
   "cell_type": "code",
   "execution_count": null,
   "id": "44dd03a6",
   "metadata": {},
   "outputs": [],
   "source": [
    "data = {'word_count': [100, 150, 200, 120, 180, 220], \n",
    "        'is_spam': ['ham', 'spam', 'spam', 'ham', 'spam', 'spam']}\n",
    "df = pd.DataFrame(data)\n",
    "\n",
    "Expected Output (Example):\n",
    "Prediction for email with 200 words: Spam\n"
   ]
  },
  {
   "cell_type": "code",
   "execution_count": 24,
   "id": "11a8d5f7",
   "metadata": {},
   "outputs": [
    {
     "name": "stdout",
     "output_type": "stream",
     "text": [
      "Prediction for email with 200 words:spam\n"
     ]
    },
    {
     "name": "stderr",
     "output_type": "stream",
     "text": [
      "C:\\Users\\Hxtreme\\anaconda3\\envs\\AIML\\lib\\site-packages\\sklearn\\tree\\tree.py:163: DeprecationWarning: `np.int` is a deprecated alias for the builtin `int`. To silence this warning, use `int` by itself. Doing this will not modify any behavior and is safe. When replacing `np.int`, you may wish to use e.g. `np.int64` or `np.int32` to specify the precision. If you wish to review your current use, check the release note link for additional information.\n",
      "Deprecated in NumPy 1.20; for more details and guidance: https://numpy.org/devdocs/release/1.20.0-notes.html#deprecations\n",
      "  y_encoded = np.zeros(y.shape, dtype=np.int)\n"
     ]
    }
   ],
   "source": [
    "# Answer:6\n",
    "import pandas as pd\n",
    "from sklearn.tree import DecisionTreeClassifier\n",
    "\n",
    "data = {'word_count': [100, 150, 200, 120, 180, 220], \n",
    "        'is_spam': ['ham', 'spam', 'spam', 'ham', 'spam', 'spam']}\n",
    "df = pd.DataFrame(data)\n",
    "df\n",
    "\n",
    "X = df[['word_count']]\n",
    "y = df['is_spam']\n",
    "\n",
    "regressor = DecisionTreeClassifier()\n",
    "regressor.fit(X,y)\n",
    "\n",
    "X_test = [[200]]\n",
    "y_pred = regressor.predict(X_test)\n",
    "print(f\"Prediction for email with 200 words:{y_pred[0]}\")"
   ]
  },
  {
   "cell_type": "code",
   "execution_count": null,
   "id": "3ef1baed",
   "metadata": {},
   "outputs": [],
   "source": []
  }
 ],
 "metadata": {
  "kernelspec": {
   "display_name": "Python 3 (ipykernel)",
   "language": "python",
   "name": "python3"
  },
  "language_info": {
   "codemirror_mode": {
    "name": "ipython",
    "version": 3
   },
   "file_extension": ".py",
   "mimetype": "text/x-python",
   "name": "python",
   "nbconvert_exporter": "python",
   "pygments_lexer": "ipython3",
   "version": "3.7.12"
  }
 },
 "nbformat": 4,
 "nbformat_minor": 5
}
