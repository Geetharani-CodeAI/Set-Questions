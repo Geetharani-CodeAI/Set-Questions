{
 "cells": [
  {
   "cell_type": "code",
   "execution_count": 2,
   "id": "163c380c",
   "metadata": {},
   "outputs": [
    {
     "name": "stdout",
     "output_type": "stream",
     "text": [
      "  Feature1  Feature2\n",
      "0       10       5.5\n",
      "1       20       6.7\n",
      "2   Thirty       8.9\n"
     ]
    }
   ],
   "source": [
    "#1.Debug the given code\n",
    "import pandas as pd\n",
    "\n",
    "data = {'Feature1': ['10', '20', 'Thirty'],  # 'Thirty' is not a valid number\n",
    "        'Feature2': [5.5, 6.7, 8.9]}\n",
    "\n",
    "df = pd.DataFrame(data)\n",
    "df['Feature1'] = df['Feature1'].astype(str)  # Error: Cannot convert 'Thirty' to int\n",
    "\n",
    "print(df)\n",
    "\n"
   ]
  },
  {
   "cell_type": "code",
   "execution_count": 3,
   "id": "75ed407d",
   "metadata": {},
   "outputs": [
    {
     "name": "stdout",
     "output_type": "stream",
     "text": [
      "A    1.5\n",
      "B    5.0\n",
      "dtype: float64\n",
      "     A    B\n",
      "0  1.0  4.0\n",
      "1  2.0  5.0\n",
      "2  1.5  6.0\n"
     ]
    }
   ],
   "source": [
    "#2.\n",
    "import pandas as pd\n",
    "\n",
    "data = {'A': [1, 2, None],  # Missing value\n",
    "        'B': [4, None, 6]}  # Missing value\n",
    "\n",
    "df = pd.DataFrame(data)\n",
    "mean_value = df.mean()\n",
    "print(mean_value)\n",
    "df.fillna(mean_value,inplace = True)  # Error: fillna() does not modify in place\n",
    "\n",
    "print(df)\n"
   ]
  },
  {
   "cell_type": "code",
   "execution_count": 2,
   "id": "e65cb6bb",
   "metadata": {},
   "outputs": [
    {
     "name": "stdout",
     "output_type": "stream",
     "text": [
      "[2.]\n",
      "0.0\n"
     ]
    }
   ],
   "source": [
    "#3.from sklearn.linear_model import LinearRegression\n",
    "import numpy as np\n",
    "from sklearn.linear_model import LinearRegression\n",
    "\n",
    "X = np.array([[1], [2], [3], [4], [5]])  # Error: X should be 2D\n",
    "y = np.array([2, 4, 6, 8, 10])\n",
    "\n",
    "model = LinearRegression()\n",
    "model.fit(X, y)\n",
    "\n",
    "print(model.coef_)\n",
    "print(model.intercept_)\n"
   ]
  },
  {
   "cell_type": "code",
   "execution_count": 3,
   "id": "b60f10de",
   "metadata": {},
   "outputs": [
    {
     "name": "stdout",
     "output_type": "stream",
     "text": [
      "[[-1.22474487  0.        ]\n",
      " [ 0.          1.22474487]\n",
      " [ 1.22474487 -1.22474487]]\n"
     ]
    }
   ],
   "source": [
    "#4.\n",
    "from sklearn.preprocessing import StandardScaler\n",
    "import numpy as np\n",
    "\n",
    "data = np.array([[10, 20], [30, 40], [50,0]])  # Error: Should be 2D\n",
    "\n",
    "scaler = StandardScaler()\n",
    "scaled_data = scaler.fit_transform(data)\n",
    "\n",
    "print(scaled_data)\n"
   ]
  },
  {
   "cell_type": "code",
   "execution_count": 33,
   "id": "da46280a",
   "metadata": {},
   "outputs": [
    {
     "name": "stdout",
     "output_type": "stream",
     "text": [
      "[[0.02119793 0.10631366]]\n",
      "[0.08511573]\n"
     ]
    },
    {
     "name": "stderr",
     "output_type": "stream",
     "text": [
      "C:\\Users\\Hxtreme\\anaconda3\\envs\\AIML\\lib\\site-packages\\sklearn\\linear_model\\logistic.py:432: FutureWarning: Default solver will be changed to 'lbfgs' in 0.22. Specify a solver to silence this warning.\n",
      "  FutureWarning)\n"
     ]
    }
   ],
   "source": [
    "#5.\n",
    "from sklearn.linear_model import LogisticRegression\n",
    "\n",
    "X = [[1, 2], [3, 4], [5, 6]]\n",
    "y = ['yes', 'no', 'yes']  # Error: Labels should be numeric\n",
    "\n",
    "model = LogisticRegression()\n",
    "model.fit(X, y)\n",
    "\n",
    "print(model.coef_)\n",
    "print(model.intercept_)\n"
   ]
  },
  {
   "cell_type": "code",
   "execution_count": 1,
   "id": "a6845ab1",
   "metadata": {},
   "outputs": [
    {
     "name": "stdout",
     "output_type": "stream",
     "text": [
      "  (0, 0)\t1.0\n",
      "  (1, 1)\t1.0\n",
      "  (2, 2)\t1.0\n",
      "  (3, 0)\t1.0\n"
     ]
    },
    {
     "name": "stderr",
     "output_type": "stream",
     "text": [
      "C:\\Users\\Hxtreme\\anaconda3\\envs\\AIML\\lib\\site-packages\\sklearn\\preprocessing\\_encoders.py:395: DeprecationWarning: `np.int` is a deprecated alias for the builtin `int`. To silence this warning, use `int` by itself. Doing this will not modify any behavior and is safe. When replacing `np.int`, you may wish to use e.g. `np.int64` or `np.int32` to specify the precision. If you wish to review your current use, check the release note link for additional information.\n",
      "Deprecated in NumPy 1.20; for more details and guidance: https://numpy.org/devdocs/release/1.20.0-notes.html#deprecations\n",
      "  check_array(X, dtype=np.int)\n",
      "C:\\Users\\Hxtreme\\anaconda3\\envs\\AIML\\lib\\site-packages\\sklearn\\preprocessing\\_encoders.py:110: DeprecationWarning: `np.int` is a deprecated alias for the builtin `int`. To silence this warning, use `int` by itself. Doing this will not modify any behavior and is safe. When replacing `np.int`, you may wish to use e.g. `np.int64` or `np.int32` to specify the precision. If you wish to review your current use, check the release note link for additional information.\n",
      "Deprecated in NumPy 1.20; for more details and guidance: https://numpy.org/devdocs/release/1.20.0-notes.html#deprecations\n",
      "  X_int = np.zeros((n_samples, n_features), dtype=np.int)\n",
      "C:\\Users\\Hxtreme\\anaconda3\\envs\\AIML\\lib\\site-packages\\sklearn\\preprocessing\\_encoders.py:111: DeprecationWarning: `np.bool` is a deprecated alias for the builtin `bool`. To silence this warning, use `bool` by itself. Doing this will not modify any behavior and is safe. If you specifically wanted the numpy scalar type, use `np.bool_` here.\n",
      "Deprecated in NumPy 1.20; for more details and guidance: https://numpy.org/devdocs/release/1.20.0-notes.html#deprecations\n",
      "  X_mask = np.ones((n_samples, n_features), dtype=np.bool)\n"
     ]
    }
   ],
   "source": [
    "#6.import pandas as pd\n",
    "from sklearn.preprocessing import OneHotEncoder\n",
    "import pandas as pd\n",
    "df = pd.DataFrame({'Category': ['A', 'B', 'C', 'A']})\n",
    "\n",
    "encoder = OneHotEncoder()\n",
    "encoded = encoder.fit_transform(df)  # Error: Data should be reshaped\n",
    "print(encoded)\n"
   ]
  },
  {
   "cell_type": "code",
   "execution_count": 5,
   "id": "e4e1665b",
   "metadata": {},
   "outputs": [
    {
     "name": "stdout",
     "output_type": "stream",
     "text": [
      "[[3, 4], [5, 6], [1, 2]] [[7, 8]] [1, 0, 0] [1]\n"
     ]
    }
   ],
   "source": [
    "#6.\n",
    "from sklearn.model_selection import train_test_split\n",
    "\n",
    "X = [[1, 2], [3, 4], [5, 6], [7, 8]]\n",
    "y = [0, 1, 0, 1]\n",
    "\n",
    "X_train, X_test, y_train, y_test = train_test_split(X, y, test_size=0.2)\n",
    "\n",
    "print(X_train, X_test, y_train, y_test)\n"
   ]
  },
  {
   "cell_type": "code",
   "execution_count": 15,
   "id": "6f9a8ec4",
   "metadata": {},
   "outputs": [
    {
     "name": "stdout",
     "output_type": "stream",
     "text": [
      "[[0.02119793 0.10631366]]\n",
      "[0.08511573]\n"
     ]
    },
    {
     "name": "stderr",
     "output_type": "stream",
     "text": [
      "C:\\Users\\Hxtreme\\anaconda3\\envs\\AIML\\lib\\site-packages\\sklearn\\linear_model\\logistic.py:432: FutureWarning: Default solver will be changed to 'lbfgs' in 0.22. Specify a solver to silence this warning.\n",
      "  FutureWarning)\n"
     ]
    }
   ],
   "source": [
    "#7.from sklearn.linear_model import LogisticRegression\n",
    "\n",
    "X_train = [[1, 2], [3, 4], [5, 6]]\n",
    "y_train = [\"yes\", \"no\", \"yes\"]  # Error: LogisticRegression expects numerical labels\n",
    "\n",
    "from sklearn.linear_model import LogisticRegression\n",
    "model = LogisticRegression()\n",
    "model.fit(X_train, y_train)\n",
    "\n",
    "print(model.coef_)\n",
    "print(model.intercept_)"
   ]
  },
  {
   "cell_type": "code",
   "execution_count": 30,
   "id": "ee13984b",
   "metadata": {},
   "outputs": [
    {
     "name": "stdout",
     "output_type": "stream",
     "text": [
      "[2.5 2.5]\n",
      "2.500000000000007\n"
     ]
    }
   ],
   "source": [
    "#8.\n",
    "import numpy as np\n",
    "import pandas as pd\n",
    "from sklearn.linear_model import LinearRegression\n",
    "from sklearn.impute import SimpleImputer\n",
    "\n",
    "# Creating a dataset with missing values\n",
    "X_train = np.array([[1, 2], [3, np.nan], [5, 6]])\n",
    "y_train = np.array([10, 20, 30])\n",
    "\n",
    "imputer = SimpleImputer(strategy = 'mean')\n",
    "X_train_impute = imputer.fit_transform(X_train)\n",
    "\n",
    "\n",
    "model = LinearRegression()\n",
    "model.fit(X_train_impute, y_train)  \n",
    "\n",
    "print(model.coef_)\n",
    "print(model.intercept_)\n"
   ]
  },
  {
   "cell_type": "code",
   "execution_count": 6,
   "id": "29fdd8c5",
   "metadata": {},
   "outputs": [
    {
     "name": "stdout",
     "output_type": "stream",
     "text": [
      "[1. 0.]\n",
      "2\n"
     ]
    },
    {
     "name": "stderr",
     "output_type": "stream",
     "text": [
      "C:\\Users\\Hxtreme\\anaconda3\\envs\\AIML\\lib\\site-packages\\sklearn\\decomposition\\online_lda.py:29: DeprecationWarning: `np.float` is a deprecated alias for the builtin `float`. To silence this warning, use `float` by itself. Doing this will not modify any behavior and is safe. If you specifically wanted the numpy scalar type, use `np.float64` here.\n",
      "Deprecated in NumPy 1.20; for more details and guidance: https://numpy.org/devdocs/release/1.20.0-notes.html#deprecations\n",
      "  EPS = np.finfo(np.float).eps\n",
      "C:\\Users\\Hxtreme\\anaconda3\\envs\\AIML\\lib\\site-packages\\sklearn\\tree\\tree.py:163: DeprecationWarning: `np.int` is a deprecated alias for the builtin `int`. To silence this warning, use `int` by itself. Doing this will not modify any behavior and is safe. When replacing `np.int`, you may wish to use e.g. `np.int64` or `np.int32` to specify the precision. If you wish to review your current use, check the release note link for additional information.\n",
      "Deprecated in NumPy 1.20; for more details and guidance: https://numpy.org/devdocs/release/1.20.0-notes.html#deprecations\n",
      "  y_encoded = np.zeros(y.shape, dtype=np.int)\n"
     ]
    }
   ],
   "source": [
    "#9.\n",
    "from sklearn.tree import DecisionTreeClassifier\n",
    "\n",
    "X_train = [[1, 2], [3, 4], [5, 6]]\n",
    "y_train = [\"spam\", \"ham\", \"spam\"]  # Error: String labels not allowed\n",
    "\n",
    "\n",
    "model = DecisionTreeClassifier()\n",
    "model.fit(X_train, y_train)\n",
    "\n",
    "print(model.feature_importances_)\n",
    "print(model.max_features_)"
   ]
  },
  {
   "cell_type": "code",
   "execution_count": 9,
   "id": "4057ff6d",
   "metadata": {},
   "outputs": [
    {
     "data": {
      "text/plain": [
       "array([[-1.22474487, -0.61237244]])"
      ]
     },
     "execution_count": 9,
     "metadata": {},
     "output_type": "execute_result"
    }
   ],
   "source": [
    "#10.\n",
    "from sklearn.svm import SVC\n",
    "from sklearn.preprocessing import StandardScaler\n",
    "\n",
    "X_train = [[1, 100], [2, 200], [3, 300]]\n",
    "y_train = [0, 1, 0]\n",
    "\n",
    "scaler = StandardScaler()\n",
    "X_train_scaled = scaler.fit_transform(X_train)\n",
    "\n",
    "\n",
    "model = SVC()\n",
    "model.fit(X_train_scaled, y_train)\n",
    "\n",
    "new_model = ([[1, 150]])             # Unreliable output due to large-scale difference\n",
    "scaler.transform(new_model)\n"
   ]
  },
  {
   "cell_type": "code",
   "execution_count": null,
   "id": "045c1234",
   "metadata": {},
   "outputs": [],
   "source": []
  }
 ],
 "metadata": {
  "kernelspec": {
   "display_name": "Python 3 (ipykernel)",
   "language": "python",
   "name": "python3"
  },
  "language_info": {
   "codemirror_mode": {
    "name": "ipython",
    "version": 3
   },
   "file_extension": ".py",
   "mimetype": "text/x-python",
   "name": "python",
   "nbconvert_exporter": "python",
   "pygments_lexer": "ipython3",
   "version": "3.7.12"
  }
 },
 "nbformat": 4,
 "nbformat_minor": 5
}
